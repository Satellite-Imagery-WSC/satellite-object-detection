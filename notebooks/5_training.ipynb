{
 "cells": [
  {
   "cell_type": "markdown",
   "metadata": {},
   "source": [
    "# 4.- Training"
   ]
  },
  {
   "cell_type": "code",
   "execution_count": 41,
   "metadata": {},
   "outputs": [],
   "source": [
    "import yaml\n",
    "from azure.ai.ml import MLClient\n",
    "from azure.identity import DefaultAzureCredential\n",
    "from azure.ai.ml import command\n",
    "from azure.ai.ml.entities import Environment, CommandJob\n",
    "from azure.ai.ml.constants import AssetTypes\n",
    "from azure.ai.ml import Input"
   ]
  },
  {
   "cell_type": "code",
   "execution_count": 42,
   "metadata": {},
   "outputs": [],
   "source": [
    "# Load configuration from the YAML file\n",
    "with open(\"../config.yaml\", \"r\") as file:\n",
    "    config = yaml.safe_load(file)"
   ]
  },
  {
   "cell_type": "code",
   "execution_count": 43,
   "metadata": {},
   "outputs": [],
   "source": [
    "subscription_id = config[\"azure\"][\"subscription_id\"]\n",
    "resource_group = config[\"azure\"][\"resource_group_name\"]\n",
    "workspace_name = config[\"azure\"][\"workspace_name\"]\n",
    "container_name = config[\"azure\"][\"container_name\"]\n",
    "location = config[\"azure\"][\"location\"]\n",
    "datastore_name = config[\"azure\"][\"datastore_name\"]\n",
    "training_gpu_cluster = config[\"azure\"][\"training_gpu_cluster\"]"
   ]
  },
  {
   "cell_type": "code",
   "execution_count": 44,
   "metadata": {},
   "outputs": [],
   "source": [
    "# Asumiendo que tienes un datastore ya configurado y vinculado a tu espacio de trabajo\n",
    "# datastore_name = 'your_datastore_name'\n",
    "data_folder = f'{datastore_name}/data'\n",
    "scripts_folder = f'{datastore_name}/scripts'"
   ]
  },
  {
   "cell_type": "code",
   "execution_count": 45,
   "metadata": {},
   "outputs": [
    {
     "name": "stderr",
     "output_type": "stream",
     "text": [
      "Overriding of current TracerProvider is not allowed\n",
      "Overriding of current LoggerProvider is not allowed\n",
      "Overriding of current MeterProvider is not allowed\n",
      "Attempting to instrument while already instrumented\n",
      "Attempting to instrument while already instrumented\n",
      "Attempting to instrument while already instrumented\n"
     ]
    }
   ],
   "source": [
    "credential = DefaultAzureCredential()\n",
    "ml_client = MLClient(credential, subscription_id, resource_group, workspace_name)"
   ]
  },
  {
   "cell_type": "code",
   "execution_count": 53,
   "metadata": {},
   "outputs": [],
   "source": [
    "# Define the local code folder (the training code will be automatically uploaded)\n",
    "code_folder = \"../src\"\n",
    "\n",
    "# Define the relative paths inside your code folder\n",
    "# Adjust these paths according to your repository structure.\n",
    "pipeline_config_path = f\"{code_folder}/custom_pipeline_file.config\"\n",
    "# model_output_path = \"models/research/object_detection/model_output\"  # This folder will be used for model outputs\n",
    "model_output_path = \"../external/model_trained\"  # This folder will be used for model outputs\n",
    "\n",
    "\n",
    "# Set training parameters\n",
    "num_train_steps = 1000\n",
    "\n",
    "# Create the training job command\n",
    "job = command(\n",
    "    \n",
    "    code=code_folder,  # The folder containing your code (it will be packaged and uploaded)\n",
    "    command=\"\"\"export PYTHONPATH=$PYTHONPATH:`pwd`:`pwd`/research:`pwd`/research/slim && \\\n",
    "        pip install tf-slim && \\\n",
    "        pip install pycocotools && \\\n",
    "        python research/object_detection/model_main_tf2.py \\\n",
    "        --pipeline_config_path ${{inputs.pipeline_config_path}} \\\n",
    "        --model_dir ${{inputs.model_dir}} \\\n",
    "        --alsologtostderr \\\n",
    "        --num_train_steps ${{inputs.num_train_steps}} \\\n",
    "        --sample_1_of_n_eval_examples ${{inputs.sample_1_of_n_eval_examples}}\"\"\",\n",
    "    inputs={\n",
    "        \"pipeline_config_path\": Input(type=\"uri_file\", path=pipeline_config_path),\n",
    "        \"model_dir\": Input(type=\"uri_folder\", path=model_output_path),\n",
    "        \"num_train_steps\": num_train_steps,\n",
    "        \"sample_1_of_n_eval_examples\": 1\n",
    "    },\n",
    "    environment=\"AzureML-tensorflow-2.12-cuda11@latest\",  # Use the curated environment provided by Azure or your custom environment name\n",
    "    compute=\"training-gpu-cluster\",  # Replace with the name of your compute target\n",
    "    experiment_name=\"tf-object-detection-training\",\n",
    "    display_name=\"TensorFlow Object Detection Training\"\n",
    ")\n"
   ]
  },
  {
   "cell_type": "code",
   "execution_count": 54,
   "metadata": {},
   "outputs": [
    {
     "name": "stdout",
     "output_type": "stream",
     "text": [
      "Job submitted successfully. You can monitor it at: {}\n"
     ]
    }
   ],
   "source": [
    "# Submit the job to Azure ML\n",
    "job = ml_client.jobs.create_or_update(job)\n",
    "print(f\"Job submitted successfully. You can monitor it at: {job.url}\")"
   ]
  },
  {
   "cell_type": "code",
   "execution_count": null,
   "metadata": {},
   "outputs": [],
   "source": []
  }
 ],
 "metadata": {
  "kernelspec": {
   "display_name": "satellite-object-detection-azure-infra",
   "language": "python",
   "name": "python3"
  },
  "language_info": {
   "codemirror_mode": {
    "name": "ipython",
    "version": 3
   },
   "file_extension": ".py",
   "mimetype": "text/x-python",
   "name": "python",
   "nbconvert_exporter": "python",
   "pygments_lexer": "ipython3",
   "version": "3.9.21"
  }
 },
 "nbformat": 4,
 "nbformat_minor": 2
}
