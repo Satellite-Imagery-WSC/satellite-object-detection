{
 "cells": [
  {
   "cell_type": "markdown",
   "metadata": {},
   "source": [
    "# 1.- Data Visualization and Analysis"
   ]
  },
  {
   "cell_type": "code",
   "execution_count": null,
   "metadata": {},
   "outputs": [],
   "source": [
    "import os\n",
    "from PIL import Image\n",
    "import matplotlib.pyplot as plt\n",
    "import seaborn as sns"
   ]
  },
  {
   "cell_type": "code",
   "execution_count": null,
   "metadata": {},
   "outputs": [],
   "source": [
    "# Directory containing images\n",
    "image_dir = '../data/raw/archive/ISatelitales/airplane'"
   ]
  },
  {
   "cell_type": "code",
   "execution_count": null,
   "metadata": {},
   "outputs": [],
   "source": [
    "# Collecting image sizes\n",
    "image_sizes = []\n",
    "for subdir, dirs, files in os.walk(image_dir):\n",
    "    for file in files:\n",
    "        if file.lower().endswith(('png', 'jpg', 'jpeg')):\n",
    "            img_path = os.path.join(subdir, file)\n",
    "            with Image.open(img_path) as img:\n",
    "                image_sizes.append(img.size)\n",
    "\n",
    "# Plotting image size distribution\n",
    "widths, heights = zip(*image_sizes)\n",
    "plt.figure(figsize=(10, 5))\n",
    "sns.histplot(widths, kde=True, color='blue', label='Width')\n",
    "sns.histplot(heights, kde=True, color='orange', label='Height')\n",
    "plt.title('Image Width and Height Distribution')\n",
    "plt.xlabel('Pixels')\n",
    "plt.ylabel('Frequency')\n",
    "plt.legend()\n",
    "plt.show()"
   ]
  }
 ],
 "metadata": {
  "language_info": {
   "name": "python"
  }
 },
 "nbformat": 4,
 "nbformat_minor": 2
}
