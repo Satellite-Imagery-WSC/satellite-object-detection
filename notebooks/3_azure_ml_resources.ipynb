{
 "cells": [
  {
   "cell_type": "markdown",
   "metadata": {},
   "source": [
    "# 3.- Azure ML Resources"
   ]
  },
  {
   "cell_type": "code",
   "execution_count": 30,
   "metadata": {},
   "outputs": [],
   "source": [
    "import yaml\n",
    "\n",
    "from azure.identity import DefaultAzureCredential\n",
    "\n",
    "from azure.mgmt.resource import ResourceManagementClient\n",
    "\n",
    "from azure.core.exceptions import ResourceExistsError, ResourceNotFoundError, HttpResponseError\n",
    "\n",
    "from azure.ai.ml import MLClient\n",
    "from azure.ai.ml.entities import Workspace\n",
    "from azure.ai.ml.entities import Environment\n",
    "\n",
    "from azure.mgmt.containerregistry import ContainerRegistryManagementClient\n",
    "from azure.mgmt.containerregistry.models import Registry, Sku, RunRequest"
   ]
  },
  {
   "cell_type": "markdown",
   "metadata": {},
   "source": [
    "## Define Variables"
   ]
  },
  {
   "cell_type": "code",
   "execution_count": 31,
   "metadata": {},
   "outputs": [],
   "source": [
    "# Load configuration from the YAML file\n",
    "with open(\"../config.yaml\", \"r\") as file:\n",
    "    config = yaml.safe_load(file)"
   ]
  },
  {
   "cell_type": "code",
   "execution_count": 32,
   "metadata": {},
   "outputs": [],
   "source": [
    "subscription_id = config[\"azure\"][\"subscription_id\"]\n",
    "resource_group_name = config[\"azure\"][\"resource_group_name\"]\n",
    "workspace_name = config[\"azure\"][\"workspace_name\"]\n",
    "location = config[\"azure\"][\"location\"]\n",
    "acr_name = config[\"azure\"][\"acr_name\"]\n",
    "sku = config[\"azure\"][\"sku\"]"
   ]
  },
  {
   "cell_type": "markdown",
   "metadata": {},
   "source": [
    "## Azure Authentication"
   ]
  },
  {
   "cell_type": "code",
   "execution_count": 4,
   "metadata": {},
   "outputs": [],
   "source": [
    "# Initialize DefaultAzureCredential\n",
    "credential = DefaultAzureCredential()"
   ]
  },
  {
   "cell_type": "markdown",
   "metadata": {},
   "source": [
    "## Resource Group"
   ]
  },
  {
   "cell_type": "code",
   "execution_count": 5,
   "metadata": {},
   "outputs": [],
   "source": [
    "# Initialize the Resource Management client\n",
    "resource_client = ResourceManagementClient(credential, subscription_id)"
   ]
  },
  {
   "cell_type": "code",
   "execution_count": 6,
   "metadata": {},
   "outputs": [],
   "source": [
    "def create_resource_group(resource_client, resource_group_name, location):\n",
    "    try:\n",
    "        # Attempt to get the resource group\n",
    "        resource_group = resource_client.resource_groups.get(resource_group_name)\n",
    "        print(f\"Resource Group '{resource_group_name}' already exists in '{resource_group.location}'.\")\n",
    "    except ResourceNotFoundError:\n",
    "        # If the resource group does not exist, create it\n",
    "        resource_group_params = {\"location\": location}\n",
    "        resource_group = resource_client.resource_groups.create_or_update(\n",
    "            resource_group_name,\n",
    "            resource_group_params\n",
    "        )\n",
    "        print(f\"Resource Group '{resource_group_name}' created in '{resource_group.location}'.\")\n",
    "    except Exception as e:\n",
    "        # Handle other exceptions\n",
    "        print(f\"An error occurred: {e}\")\n"
   ]
  },
  {
   "cell_type": "code",
   "execution_count": null,
   "metadata": {},
   "outputs": [],
   "source": [
    "# Call the function to create the Resource Group\n",
    "create_resource_group(resource_client, resource_group_name, location)"
   ]
  },
  {
   "cell_type": "markdown",
   "metadata": {},
   "source": [
    "## Workspace"
   ]
  },
  {
   "cell_type": "code",
   "execution_count": 8,
   "metadata": {},
   "outputs": [],
   "source": [
    "ml_client = MLClient(credential, subscription_id, resource_group_name)"
   ]
  },
  {
   "cell_type": "code",
   "execution_count": 9,
   "metadata": {},
   "outputs": [],
   "source": [
    "def create_workspace(ml_client, workspace_name, location):\n",
    "    try:\n",
    "        # Intentar obtener el Workspace existente\n",
    "        workspace = ml_client.workspaces.get(workspace_name)\n",
    "        print(f\"Workspace '{workspace_name}' ya existe en '{workspace.location}'.\")\n",
    "    except ResourceNotFoundError:\n",
    "        # Si el Workspace no existe, crearlo de manera asíncrona\n",
    "        workspace_poller = ml_client.workspaces.begin_create(\n",
    "            Workspace(\n",
    "                name=workspace_name,\n",
    "                location=location  # Usa la variable 'location'\n",
    "            )\n",
    "        )\n",
    "        workspace = workspace_poller.result()  # Espera a que la operación termine\n",
    "        print(f\"Workspace '{workspace_name}' creado en '{workspace.location}'.\")\n",
    "    except Exception as e:\n",
    "        # Manejar otras excepciones\n",
    "        print(f\"Ocurrió un error: {e}\")"
   ]
  },
  {
   "cell_type": "code",
   "execution_count": 27,
   "metadata": {},
   "outputs": [],
   "source": [
    "create_workspace(ml_client, workspace_name, location)"
   ]
  },
  {
   "cell_type": "markdown",
   "metadata": {},
   "source": [
    "## Azure Container Registry"
   ]
  },
  {
   "cell_type": "code",
   "execution_count": 18,
   "metadata": {},
   "outputs": [],
   "source": [
    "acr_client = ContainerRegistryManagementClient(credential, subscription_id)"
   ]
  },
  {
   "cell_type": "code",
   "execution_count": 25,
   "metadata": {},
   "outputs": [],
   "source": [
    "def create_container_registry(acr_client, registry_name, resource_group_name, location, sku):\n",
    "    try:\n",
    "        # Attempt to get the existing Container Registry\n",
    "        registry = acr_client.registries.get(resource_group_name, registry_name)\n",
    "        print(f\"Container Registry '{registry_name}' already exists in '{registry.location}'.\")\n",
    "        return registry\n",
    "    except ResourceNotFoundError:\n",
    "        try:\n",
    "            # Define the parameters for the Container Registry\n",
    "            registry_params = Registry(\n",
    "                location=location,\n",
    "                sku=Sku(name=sku)\n",
    "            )\n",
    "            \n",
    "            # Begin creating the Container Registry\n",
    "            registry_poller = acr_client.registries.begin_create(\n",
    "                resource_group_name=resource_group_name,\n",
    "                registry_name=registry_name,\n",
    "                registry=registry_params\n",
    "            )\n",
    "            \n",
    "            # Wait for the operation to complete\n",
    "            registry = registry_poller.result()\n",
    "            print(f\"Container Registry '{registry_name}' created successfully in '{registry.location}'.\")\n",
    "            return registry\n",
    "        except ResourceExistsError:\n",
    "            print(f\"The Container Registry '{registry_name}' already exists.\")\n",
    "        except Exception as e:\n",
    "            print(f\"An error occurred while creating the Container Registry: {e}\")"
   ]
  },
  {
   "cell_type": "code",
   "execution_count": null,
   "metadata": {},
   "outputs": [],
   "source": [
    "# Create the Container Registry\n",
    "registry = create_container_registry(acr_client, acr_name, resource_group_name, location, sku)"
   ]
  }
 ],
 "metadata": {
  "kernelspec": {
   "display_name": "satellite-object-detection-azure-infra",
   "language": "python",
   "name": "python3"
  },
  "language_info": {
   "codemirror_mode": {
    "name": "ipython",
    "version": 3
   },
   "file_extension": ".py",
   "mimetype": "text/x-python",
   "name": "python",
   "nbconvert_exporter": "python",
   "pygments_lexer": "ipython3",
   "version": "3.9.21"
  }
 },
 "nbformat": 4,
 "nbformat_minor": 2
}
