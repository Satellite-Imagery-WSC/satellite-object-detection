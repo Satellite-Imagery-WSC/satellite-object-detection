{
 "cells": [
  {
   "cell_type": "markdown",
   "metadata": {},
   "source": [
    "# 3.- Azure ML Resources"
   ]
  },
  {
   "cell_type": "code",
   "execution_count": null,
   "metadata": {},
   "outputs": [],
   "source": [
    "# Install Azure ML extension\n",
    "!az extension add -n azure-cli-ml"
   ]
  },
  {
   "cell_type": "code",
   "execution_count": null,
   "metadata": {},
   "outputs": [],
   "source": [
    "from azure.identity import DefaultAzureCredential\n",
    "from azure.ai.ml import MLClient\n",
    "from azure.ai.ml.entities import Workspace"
   ]
  },
  {
   "cell_type": "code",
   "execution_count": null,
   "metadata": {},
   "outputs": [],
   "source": [
    "subscription_id = \"<YOUR_AZURE_SUBSCRIPTION_ID>\"\n",
    "resource_group = \"<YOUR_RESOURCE_GROUP_NAME>\"\n",
    "workspace_name = \"<YOUR_WORKSPACE_NAME>\"\n",
    "\n",
    "credential = DefaultAzureCredential()\n",
    "ml_client = MLClient(credential, subscription_id, resource_group)\n",
    "\n",
    "# Create AML Workspace if it doesn't exist\n",
    "try:\n",
    "    workspace = ml_client.workspaces.get(workspace_name)\n",
    "    print(f\"Workspace '{workspace_name}' already exists.\")\n",
    "except Exception:\n",
    "    workspace = ml_client.workspaces.begin_create_or_update(\n",
    "        Workspace(\n",
    "            name=workspace_name,\n",
    "            location=\"eastus\"  # Choose your preferred region\n",
    "        )\n",
    "    ).result()\n",
    "    print(f\"Workspace '{workspace_name}' created.\")\n",
    "\n",
    "# Create Azure Container Registry (ACR)\n",
    "acr_name = \"<YOUR_ACR_NAME>\"\n",
    "\n",
    "try:\n",
    "    acr = ml_client.container_registries.get(acr_name)\n",
    "    print(f\"ACR '{acr_name}' already exists.\")\n",
    "except Exception:\n",
    "    acr = ml_client.container_registries.begin_create_or_update(\n",
    "        name=acr_name,\n",
    "        resource_group_name=resource_group,\n",
    "        location=\"eastus\",  # Ensure this matches your workspace region\n",
    "        sku=\"Basic\"\n",
    "    ).result()\n",
    "    print(f\"ACR '{acr_name}' created.\")"
   ]
  }
 ],
 "metadata": {
  "kernelspec": {
   "display_name": "satellite-object-detection",
   "language": "python",
   "name": "python3"
  },
  "language_info": {
   "codemirror_mode": {
    "name": "ipython",
    "version": 3
   },
   "file_extension": ".py",
   "mimetype": "text/x-python",
   "name": "python",
   "nbconvert_exporter": "python",
   "pygments_lexer": "ipython3",
   "version": "3.9.21"
  }
 },
 "nbformat": 4,
 "nbformat_minor": 2
}
