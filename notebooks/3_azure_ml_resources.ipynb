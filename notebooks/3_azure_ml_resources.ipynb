{
 "cells": [
  {
   "cell_type": "markdown",
   "metadata": {},
   "source": [
    "# 3.- Azure ML Resources"
   ]
  },
  {
   "cell_type": "markdown",
   "metadata": {},
   "source": [
    "## Create Resource Group"
   ]
  },
  {
   "cell_type": "code",
   "execution_count": 1,
   "metadata": {},
   "outputs": [],
   "source": [
    "from azure.identity import DefaultAzureCredential\n",
    "from azure.mgmt.resource import ResourceManagementClient"
   ]
  },
  {
   "cell_type": "code",
   "execution_count": null,
   "metadata": {},
   "outputs": [],
   "source": [
    "# Credentials and params\n",
    "subscription_id = \"subscription_id\"\n",
    "credential = DefaultAzureCredential()\n",
    "resource_client = ResourceManagementClient(credential, subscription_id)\n",
    "\n",
    "# Create resource group\n",
    "resource_group_name = \"satellite_object_detection_resource_group\"\n",
    "location = \"eastus\"\n",
    "\n",
    "resource_client.resource_groups.create_or_update(\n",
    "    resource_group_name,\n",
    "    {\"location\": location}\n",
    ")\n",
    "print(f\"Resource Group '{resource_group_name}' created in {location}\")"
   ]
  },
  {
   "cell_type": "markdown",
   "metadata": {},
   "source": [
    "## Create Workspace"
   ]
  },
  {
   "cell_type": "code",
   "execution_count": 6,
   "metadata": {},
   "outputs": [],
   "source": [
    "from azureml.core import Workspace"
   ]
  },
  {
   "cell_type": "code",
   "execution_count": null,
   "metadata": {},
   "outputs": [],
   "source": [
    "workspace_name = \"satellite_object_detection_workspace_ml\"\n",
    "\n",
    "# Create Workspace\n",
    "ws = Workspace.create(\n",
    "    name=workspace_name,\n",
    "    subscription_id=subscription_id,\n",
    "    resource_group=resource_group_name,\n",
    "    location=location,\n",
    "    exist_ok=True\n",
    ")\n",
    "print(f\"Workspace '{workspace_name}' created or retrieved successfully\")"
   ]
  }
 ],
 "metadata": {
  "kernelspec": {
   "display_name": "satellite-object-detection",
   "language": "python",
   "name": "python3"
  },
  "language_info": {
   "codemirror_mode": {
    "name": "ipython",
    "version": 3
   },
   "file_extension": ".py",
   "mimetype": "text/x-python",
   "name": "python",
   "nbconvert_exporter": "python",
   "pygments_lexer": "ipython3",
   "version": "3.9.21"
  }
 },
 "nbformat": 4,
 "nbformat_minor": 2
}
