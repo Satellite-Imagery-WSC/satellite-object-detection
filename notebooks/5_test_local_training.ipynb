{
 "cells": [
  {
   "cell_type": "markdown",
   "metadata": {},
   "source": [
    "# 5.- Test Environment Local"
   ]
  },
  {
   "cell_type": "code",
   "execution_count": 11,
   "metadata": {},
   "outputs": [],
   "source": [
    "import os\n",
    "import docker\n",
    "from datetime import datetime"
   ]
  },
  {
   "cell_type": "code",
   "execution_count": 12,
   "metadata": {},
   "outputs": [],
   "source": [
    "# Create a Docker client\n",
    "client = docker.from_env()"
   ]
  },
  {
   "cell_type": "code",
   "execution_count": 13,
   "metadata": {},
   "outputs": [],
   "source": [
    "# Docker image name\n",
    "docker_image = 'satellite-object-detection:latest'"
   ]
  },
  {
   "cell_type": "code",
   "execution_count": 14,
   "metadata": {},
   "outputs": [],
   "source": [
    "# Generar un directorio con fecha y hora\n",
    "local_experiment_name = f\"experiment_{datetime.now().strftime('%Y%m%d-%H%M%S')}\"\n",
    "model_dir = f\"/app/train/model_output/test_local_training/{local_experiment_name}\""
   ]
  },
  {
   "cell_type": "code",
   "execution_count": 15,
   "metadata": {},
   "outputs": [],
   "source": [
    "data_local_path = os.path.abspath('../data')\n",
    "train_local_path = os.path.abspath('../train')"
   ]
  },
  {
   "cell_type": "code",
   "execution_count": 16,
   "metadata": {},
   "outputs": [],
   "source": [
    "# Corrected volume mounting with different local paths\n",
    "volumes = {\n",
    "    data_local_path: {'bind': '/app/data', 'mode': 'rw'},\n",
    "    train_local_path: {'bind': '/app/train', 'mode': 'rw'},\n",
    "}"
   ]
  },
  {
   "cell_type": "code",
   "execution_count": 17,
   "metadata": {},
   "outputs": [],
   "source": [
    "# Define the command to execute the model training script\n",
    "command = [\n",
    "    'python', '/app/train/src/research/object_detection/model_main_tf2.py',\n",
    "    '--pipeline_config_path', '/app/train/config_files/local_config_file.config',\n",
    "    '--model_dir', model_dir,\n",
    "    '--alsologtostderr',\n",
    "    '--num_train_steps', '1',\n",
    "    '--sample_1_of_n_eval_examples', '1'\n",
    "]"
   ]
  },
  {
   "cell_type": "code",
   "execution_count": null,
   "metadata": {},
   "outputs": [],
   "source": [
    "# Run the container and capture the output\n",
    "try:\n",
    "    # Run the container with bash, install libGL, then execute the command\n",
    "    container = client.containers.run(\n",
    "        docker_image,         # Docker image name\n",
    "        command,\n",
    "        volumes=volumes,      # Volumes to mount\n",
    "        detach=True,          # Run in background (detach mode)\n",
    "        stdout=True,          # Enable stdout capture\n",
    "        stderr=True,          # Enable stderr capture\n",
    "        tty=False             # Disable TTY, since we don’t need interactivity\n",
    "    )\n",
    "\n",
    "    print(\"Container is running...\")\n",
    "\n",
    "    # Collect and print logs in real-time\n",
    "    for log in container.logs(stream=True):\n",
    "        print(log.decode('utf-8'), end='')\n",
    "\n",
    "    # Wait for the container to finish\n",
    "    container.wait()\n",
    "\n",
    "    print(\"Command executed successfully\")\n",
    "\n",
    "except docker.errors.DockerException as e:\n",
    "    print(f\"Error executing Docker command: {e}\")\n"
   ]
  }
 ],
 "metadata": {
  "kernelspec": {
   "display_name": "satellite-object-detection-azure-infra",
   "language": "python",
   "name": "python3"
  },
  "language_info": {
   "codemirror_mode": {
    "name": "ipython",
    "version": 3
   },
   "file_extension": ".py",
   "mimetype": "text/x-python",
   "name": "python",
   "nbconvert_exporter": "python",
   "pygments_lexer": "ipython3",
   "version": "3.9.21"
  }
 },
 "nbformat": 4,
 "nbformat_minor": 2
}
