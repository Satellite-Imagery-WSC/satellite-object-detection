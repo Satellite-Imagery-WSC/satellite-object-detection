{
 "cells": [
  {
   "cell_type": "markdown",
   "metadata": {},
   "source": [
    "# 5.- Test Local Training"
   ]
  },
  {
   "cell_type": "code",
   "execution_count": 5,
   "metadata": {},
   "outputs": [],
   "source": [
    "import os\n",
    "import docker"
   ]
  },
  {
   "cell_type": "code",
   "execution_count": 6,
   "metadata": {},
   "outputs": [],
   "source": [
    "# Define the path to the directory containing your Dockerfile.\n",
    "# If you're running on Windows, make sure to use the appropriate path format.\n",
    "dockerfile_path = \"../docker\"  # Adjust this path as needed"
   ]
  },
  {
   "cell_type": "code",
   "execution_count": 7,
   "metadata": {},
   "outputs": [],
   "source": [
    "# Initialize the Docker client (make sure Docker Desktop is running on Windows)\n",
    "client = docker.from_env()\n",
    "\n",
    "# Define a tag for the built image.\n",
    "image_tag = \"satellite-object-detection-local:latest\""
   ]
  },
  {
   "cell_type": "code",
   "execution_count": 10,
   "metadata": {},
   "outputs": [
    {
     "name": "stdout",
     "output_type": "stream",
     "text": [
      "Error building the image: The command '/bin/sh -c echo \"Estoy en:\" $(pwd) && pip3 install /models/research/' returned a non-zero code: 1\n"
     ]
    }
   ],
   "source": [
    "try:\n",
    "    # Build the Docker image.\n",
    "    # 'path' specifies the directory with the Dockerfile.\n",
    "    # 'tag' sets the name and tag for the resulting image.\n",
    "    # 'rm=True' removes intermediate containers after a successful build.\n",
    "    image, build_logs = client.images.build(\n",
    "        path=dockerfile_path,\n",
    "        tag=image_tag,\n",
    "        rm=True\n",
    "    )\n",
    "\n",
    "    # Print the build logs to monitor the build process.\n",
    "    for chunk in build_logs:\n",
    "        if 'stream' in chunk:\n",
    "            print(chunk['stream'].strip())\n",
    "\n",
    "    print(\"Image built successfully. Tags:\", image.tags)\n",
    "\n",
    "except docker.errors.BuildError as build_err:\n",
    "    # Catch and print errors that occur during the build process.\n",
    "    print(\"Error building the image:\", build_err)\n",
    "except Exception as err:\n",
    "    # Catch any other exceptions that might occur.\n",
    "    print(\"An error occurred:\", err)\n"
   ]
  },
  {
   "cell_type": "code",
   "execution_count": 2,
   "metadata": {},
   "outputs": [],
   "source": [
    "!wsl --shutdown"
   ]
  }
 ],
 "metadata": {
  "kernelspec": {
   "display_name": "satellite-object-detection-azure-infra",
   "language": "python",
   "name": "python3"
  },
  "language_info": {
   "codemirror_mode": {
    "name": "ipython",
    "version": 3
   },
   "file_extension": ".py",
   "mimetype": "text/x-python",
   "name": "python",
   "nbconvert_exporter": "python",
   "pygments_lexer": "ipython3",
   "version": "3.9.21"
  }
 },
 "nbformat": 4,
 "nbformat_minor": 2
}
