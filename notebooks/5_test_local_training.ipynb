{
 "cells": [
  {
   "cell_type": "markdown",
   "metadata": {},
   "source": [
    "# 5.- Test Local Training"
   ]
  },
  {
   "cell_type": "code",
   "execution_count": 1,
   "metadata": {},
   "outputs": [],
   "source": [
    "import os\n",
    "import docker"
   ]
  },
  {
   "cell_type": "code",
   "execution_count": 2,
   "metadata": {},
   "outputs": [],
   "source": [
    "# Define the path to the directory containing your Dockerfile.\n",
    "# If you're running on Windows, make sure to use the appropriate path format.\n",
    "dockerfile_path = \"../docker\"  # Adjust this path as needed"
   ]
  },
  {
   "cell_type": "code",
   "execution_count": 3,
   "metadata": {},
   "outputs": [],
   "source": [
    "# Initialize the Docker client (make sure Docker Desktop is running on Windows)\n",
    "client = docker.from_env()\n",
    "\n",
    "# Define a tag for the built image.\n",
    "image_tag = \"satellite-object-detection-local:latest\""
   ]
  },
  {
   "cell_type": "code",
   "execution_count": 10,
   "metadata": {},
   "outputs": [
    {
     "name": "stdout",
     "output_type": "stream",
     "text": [
      "Step 1/13 : FROM ubuntu:18.04\n",
      "\n",
      "---> f9a80a55f492\n",
      "Step 2/13 : ENV DEBIAN_FRONTEND=noninteractive\n",
      "\n",
      "---> Using cache\n",
      "---> 7ee1b066a7e3\n",
      "Step 3/13 : ENV LD_LIBRARY_PATH=/usr/local/cuda-11.0/lib64:$LD_LIBRARY_PATH\n",
      "\n",
      "---> Using cache\n",
      "---> f450394632fe\n",
      "Step 4/13 : RUN apt-get update && apt-get install -y     git     wget     unzip     curl     sudo     python3     python3-pip     python3-dev     protobuf-compiler     && rm -rf /var/lib/apt/lists/*\n",
      "\n",
      "---> Using cache\n",
      "---> e193457b530b\n",
      "Step 5/13 : RUN ln -s /usr/bin/python3 /usr/bin/python\n",
      "\n",
      "---> Using cache\n",
      "---> 503a38673bae\n",
      "Step 6/13 : RUN pip3 uninstall -y Cython || true\n",
      "\n",
      "---> Using cache\n",
      "---> 4927003512f3\n",
      "Step 7/13 : RUN git clone --depth 1 https://github.com/tensorflow/models /models\n",
      "\n",
      "---> Using cache\n",
      "---> 3f3e29e12b2b\n",
      "Step 8/13 : WORKDIR /models/research\n",
      "\n",
      "---> Using cache\n",
      "---> 539eef410702\n",
      "Step 9/13 : RUN protoc object_detection/protos/*.proto --python_out=.\n",
      "\n",
      "---> Using cache\n",
      "---> 4370f86ca123\n",
      "Step 10/13 : RUN cp /models/research/object_detection/packages/tf2/setup.py /models/research/setup.py\n",
      "\n",
      "---> Using cache\n",
      "---> ddf62fb5bbd7\n",
      "Step 11/13 : RUN sed -i 's/tf-models-official>=2.5.1/tf-models-official==2.8.0/' /models/research/setup.py\n",
      "\n",
      "---> Using cache\n",
      "---> a294188cc45d\n",
      "Step 12/13 : WORKDIR /\n",
      "\n",
      "---> Running in 3e39fef3dc0c\n",
      "---> Removed intermediate container 3e39fef3dc0c\n",
      "---> 6aef85b16d63\n",
      "Step 13/13 : CMD [\"/bin/bash\"]\n",
      "\n",
      "---> Running in 209cb22799a6\n",
      "---> Removed intermediate container 209cb22799a6\n",
      "---> 2a4217ac1590\n",
      "Successfully built 2a4217ac1590\n",
      "Successfully tagged satellite-object-detection-local:latest\n",
      "Image built successfully. Tags: ['satellite-object-detection-local:latest']\n"
     ]
    }
   ],
   "source": [
    "try:\n",
    "    # Build the Docker image.\n",
    "    # 'path' specifies the directory with the Dockerfile.\n",
    "    # 'tag' sets the name and tag for the resulting image.\n",
    "    # 'rm=True' removes intermediate containers after a successful build.\n",
    "    image, build_logs = client.images.build(\n",
    "        path=dockerfile_path,\n",
    "        tag=image_tag,\n",
    "        rm=True\n",
    "    )\n",
    "\n",
    "    # Print the build logs to monitor the build process.\n",
    "    for chunk in build_logs:\n",
    "        if 'stream' in chunk:\n",
    "            print(chunk['stream'].strip())\n",
    "\n",
    "    print(\"Image built successfully. Tags:\", image.tags)\n",
    "\n",
    "except docker.errors.BuildError as build_err:\n",
    "    # Catch and print errors that occur during the build process.\n",
    "    print(\"Error building the image:\", build_err)\n",
    "except Exception as err:\n",
    "    # Catch any other exceptions that might occur.\n",
    "    print(\"An error occurred:\", err)\n"
   ]
  },
  {
   "cell_type": "code",
   "execution_count": 59,
   "metadata": {},
   "outputs": [
    {
     "data": {
      "text/plain": [
       "'c:\\\\Users\\\\walte\\\\Documents\\\\Projects\\\\GitHub\\\\My_Organizations\\\\Satellite-Imagery-WSC\\\\satellite-object-detection\\\\src'"
      ]
     },
     "execution_count": 59,
     "metadata": {},
     "output_type": "execute_result"
    }
   ],
   "source": [
    "# Get the current working directory (assuming the notebook is in the 'notebooks' folder)\n",
    "current_dir = os.getcwd()\n",
    "\n",
    "# Build the path to the 'src' folder by going one level up and then into 'src'\n",
    "local_code_path = os.path.abspath(os.path.join(current_dir, '..', 'src'))\n",
    "local_code_path"
   ]
  },
  {
   "cell_type": "code",
   "execution_count": 60,
   "metadata": {},
   "outputs": [],
   "source": [
    "# Compute local repository paths (assuming the notebook is in the \"notebooks\" folder)\n",
    "current_dir = os.getcwd()\n",
    "local_code_path = os.path.abspath(os.path.join(current_dir, \"..\", \"src\"))\n",
    "local_output_path = os.path.abspath(os.path.join(current_dir, \"..\", \"external\", \"model_trained\"))"
   ]
  },
  {
   "cell_type": "code",
   "execution_count": 61,
   "metadata": {},
   "outputs": [],
   "source": [
    "# Training parameters\n",
    "num_train_steps = 1000\n",
    "sample_1_of_n_eval_examples = 1"
   ]
  },
  {
   "cell_type": "code",
   "execution_count": 62,
   "metadata": {},
   "outputs": [],
   "source": [
    "# Define container paths\n",
    "container_code_path = \"/workspace\"\n",
    "container_output_path = \"/model_output\""
   ]
  },
  {
   "cell_type": "code",
   "execution_count": 63,
   "metadata": {},
   "outputs": [],
   "source": [
    "# Build the training command using triple quotes\n",
    "command_to_run = f\"\"\"\n",
    "    python research/object_detection/model_main_tf2.py \\\n",
    "    --pipeline_config_path {os.path.join(container_code_path, \"custom_pipeline_file.config\")} \\\n",
    "    --model_dir {container_output_path} \\\n",
    "    --alsologtostderr \\\n",
    "    --num_train_steps {num_train_steps} \\\n",
    "    --sample_1_of_n_eval_examples {sample_1_of_n_eval_examples}\n",
    "\"\"\""
   ]
  },
  {
   "cell_type": "code",
   "execution_count": 64,
   "metadata": {},
   "outputs": [
    {
     "name": "stdout",
     "output_type": "stream",
     "text": [
      "Local code folder: c:\\Users\\walte\\Documents\\Projects\\GitHub\\My_Organizations\\Satellite-Imagery-WSC\\satellite-object-detection\\src\n",
      "Local output folder: c:\\Users\\walte\\Documents\\Projects\\GitHub\\My_Organizations\\Satellite-Imagery-WSC\\satellite-object-detection\\external\\model_trained\n",
      "Command to run: \n",
      "    python research/object_detection/model_main_tf2.py     --pipeline_config_path /workspace\\custom_pipeline_file.config     --model_dir /model_output     --alsologtostderr     --num_train_steps 1000     --sample_1_of_n_eval_examples 1\n",
      "\n"
     ]
    }
   ],
   "source": [
    "# Print paths and command for debugging\n",
    "print(\"Local code folder:\", local_code_path)\n",
    "print(\"Local output folder:\", local_output_path)\n",
    "print(\"Command to run:\", command_to_run)"
   ]
  },
  {
   "cell_type": "code",
   "execution_count": 65,
   "metadata": {},
   "outputs": [
    {
     "name": "stdout",
     "output_type": "stream",
     "text": [
      "Traceback (most recent call last):\n",
      "File \"research/object_detection/model_main_tf2.py\", line 31, in <module>\n",
      "from object_detection import model_lib_v2\n",
      "File \"/models/research/object_detection/model_lib_v2.py\", line 29, in <module>\n",
      "from object_detection import eval_util\n",
      "File \"/models/research/object_detection/eval_util.py\", line 36, in <module>\n",
      "from object_detection.metrics import lvis_evaluation\n",
      "File \"/models/research/object_detection/metrics/lvis_evaluation.py\", line 23, in <module>\n",
      "from lvis import results as lvis_results\n",
      "File \"/usr/local/lib/python3.8/site-packages/lvis/__init__.py\", line 5, in <module>\n",
      "from lvis.vis import LVISVis\n",
      "File \"/usr/local/lib/python3.8/site-packages/lvis/vis.py\", line 1, in <module>\n",
      "import cv2\n",
      "File \"/usr/local/lib/python3.8/site-packages/cv2/__init__.py\", line 181, in <module>\n",
      "bootstrap()\n",
      "File \"/usr/local/lib/python3.8/site-packages/cv2/__init__.py\", line 153, in bootstrap\n",
      "native_module = importlib.import_module(\"cv2\")\n",
      "File \"/usr/local/lib/python3.8/importlib/__init__.py\", line 127, in import_module\n",
      "return _bootstrap._gcd_import(name[level:], package, level)\n",
      "ImportError: libgthread-2.0.so.0: cannot open shared object file: No such file or directory\n"
     ]
    }
   ],
   "source": [
    "try:\n",
    "    # Run a container from your image, mounting local folders into the container\n",
    "    container = client.containers.run(\n",
    "        image=image_tag,  # Replace with your image tag\n",
    "        command=command_to_run,\n",
    "        volumes={\n",
    "            local_code_path: {\"bind\": container_code_path, \"mode\": \"rw\"},\n",
    "            local_output_path: {\"bind\": container_output_path, \"mode\": \"rw\"}\n",
    "        },\n",
    "        working_dir=container_code_path,\n",
    "        detach=True,  # Run the container in detached mode\n",
    "        remove=True   # Automatically remove the container when it exits\n",
    "    )\n",
    "\n",
    "    # Stream and print the logs in real time\n",
    "    for line in container.logs(stream=True):\n",
    "        print(line.decode(\"utf-8\").strip())\n",
    "\n",
    "except Exception as e:\n",
    "    print(\"Error:\", e)\n"
   ]
  },
  {
   "cell_type": "code",
   "execution_count": null,
   "metadata": {},
   "outputs": [],
   "source": []
  },
  {
   "cell_type": "code",
   "execution_count": null,
   "metadata": {},
   "outputs": [],
   "source": []
  },
  {
   "cell_type": "code",
   "execution_count": null,
   "metadata": {},
   "outputs": [],
   "source": []
  },
  {
   "cell_type": "code",
   "execution_count": null,
   "metadata": {},
   "outputs": [],
   "source": []
  },
  {
   "cell_type": "code",
   "execution_count": null,
   "metadata": {},
   "outputs": [],
   "source": []
  },
  {
   "cell_type": "code",
   "execution_count": null,
   "metadata": {},
   "outputs": [],
   "source": []
  },
  {
   "cell_type": "code",
   "execution_count": null,
   "metadata": {},
   "outputs": [],
   "source": []
  },
  {
   "cell_type": "code",
   "execution_count": null,
   "metadata": {},
   "outputs": [],
   "source": []
  },
  {
   "cell_type": "code",
   "execution_count": null,
   "metadata": {},
   "outputs": [],
   "source": []
  },
  {
   "cell_type": "code",
   "execution_count": null,
   "metadata": {},
   "outputs": [],
   "source": []
  },
  {
   "cell_type": "code",
   "execution_count": 46,
   "metadata": {},
   "outputs": [],
   "source": [
    "# Comando que deseas ejecutar dentro del contenedor\n",
    "command_to_run = \"python research/object_detection/model_main_tf2.py\""
   ]
  },
  {
   "cell_type": "code",
   "execution_count": null,
   "metadata": {},
   "outputs": [],
   "source": []
  },
  {
   "cell_type": "code",
   "execution_count": null,
   "metadata": {},
   "outputs": [],
   "source": []
  },
  {
   "cell_type": "code",
   "execution_count": null,
   "metadata": {},
   "outputs": [],
   "source": []
  },
  {
   "cell_type": "code",
   "execution_count": null,
   "metadata": {},
   "outputs": [],
   "source": []
  },
  {
   "cell_type": "code",
   "execution_count": null,
   "metadata": {},
   "outputs": [],
   "source": []
  },
  {
   "cell_type": "code",
   "execution_count": null,
   "metadata": {},
   "outputs": [],
   "source": []
  },
  {
   "cell_type": "code",
   "execution_count": null,
   "metadata": {},
   "outputs": [],
   "source": []
  },
  {
   "cell_type": "code",
   "execution_count": null,
   "metadata": {},
   "outputs": [],
   "source": []
  },
  {
   "cell_type": "code",
   "execution_count": null,
   "metadata": {},
   "outputs": [],
   "source": []
  },
  {
   "cell_type": "code",
   "execution_count": 47,
   "metadata": {},
   "outputs": [
    {
     "name": "stdout",
     "output_type": "stream",
     "text": [
      "Traceback (most recent call last):\n",
      "File \"research/object_detection/model_main_tf2.py\", line 31, in <module>\n",
      "from object_detection import model_lib_v2\n",
      "File \"/models/research/object_detection/model_lib_v2.py\", line 29, in <module>\n",
      "from object_detection import eval_util\n",
      "File \"/models/research/object_detection/eval_util.py\", line 36, in <module>\n",
      "from object_detection.metrics import lvis_evaluation\n",
      "File \"/models/research/object_detection/metrics/lvis_evaluation.py\", line 23, in <module>\n",
      "from lvis import results as lvis_results\n",
      "File \"/usr/local/lib/python3.8/site-packages/lvis/__init__.py\", line 5, in <module>\n",
      "from lvis.vis import LVISVis\n",
      "File \"/usr/local/lib/python3.8/site-packages/lvis/vis.py\", line 1, in <module>\n",
      "import cv2\n",
      "File \"/usr/local/lib/python3.8/site-packages/cv2/__init__.py\", line 181, in <module>\n",
      "bootstrap()\n",
      "File \"/usr/local/lib/python3.8/site-packages/cv2/__init__.py\", line 153, in bootstrap\n",
      "native_module = importlib.import_module(\"cv2\")\n",
      "File \"/usr/local/lib/python3.8/importlib/__init__.py\", line 127, in import_module\n",
      "return _bootstrap._gcd_import(name[level:], package, level)\n",
      "ImportError: libGL.so.1: cannot open shared object file: No such file or directory\n"
     ]
    }
   ],
   "source": [
    "try:\n",
    "    # Ejecuta el contenedor montando el directorio local en /workspace del contenedor\n",
    "    container = client.containers.run(\n",
    "        image=image_tag,\n",
    "        command=command_to_run,\n",
    "        volumes={\n",
    "            local_code_path: {  # Directorio local\n",
    "                'bind': '/workspace',  # Punto de montaje en el contenedor\n",
    "                'mode': 'rw'\n",
    "            }\n",
    "        },\n",
    "        working_dir=\"/workspace\",  # Define el directorio de trabajo en el contenedor\n",
    "        detach=True,    # Ejecuta el contenedor en segundo plano\n",
    "        remove=True     # Elimina el contenedor automáticamente al finalizar\n",
    "    )\n",
    "\n",
    "    # Lee e imprime los logs en tiempo real\n",
    "    for line in container.logs(stream=True):\n",
    "        print(line.decode('utf-8').strip())\n",
    "\n",
    "except Exception as e:\n",
    "    print(\"Error:\", e)\n"
   ]
  },
  {
   "cell_type": "code",
   "execution_count": null,
   "metadata": {},
   "outputs": [],
   "source": []
  },
  {
   "cell_type": "code",
   "execution_count": null,
   "metadata": {},
   "outputs": [],
   "source": []
  },
  {
   "cell_type": "code",
   "execution_count": null,
   "metadata": {},
   "outputs": [],
   "source": []
  },
  {
   "cell_type": "code",
   "execution_count": null,
   "metadata": {},
   "outputs": [],
   "source": []
  },
  {
   "cell_type": "code",
   "execution_count": null,
   "metadata": {},
   "outputs": [],
   "source": []
  },
  {
   "cell_type": "code",
   "execution_count": null,
   "metadata": {},
   "outputs": [],
   "source": []
  },
  {
   "cell_type": "code",
   "execution_count": null,
   "metadata": {},
   "outputs": [],
   "source": []
  },
  {
   "cell_type": "code",
   "execution_count": null,
   "metadata": {},
   "outputs": [],
   "source": []
  },
  {
   "cell_type": "code",
   "execution_count": 6,
   "metadata": {},
   "outputs": [],
   "source": [
    "!wsl --shutdown"
   ]
  },
  {
   "cell_type": "code",
   "execution_count": null,
   "metadata": {},
   "outputs": [],
   "source": []
  }
 ],
 "metadata": {
  "kernelspec": {
   "display_name": "satellite-object-detection-azure-infra",
   "language": "python",
   "name": "python3"
  },
  "language_info": {
   "codemirror_mode": {
    "name": "ipython",
    "version": 3
   },
   "file_extension": ".py",
   "mimetype": "text/x-python",
   "name": "python",
   "nbconvert_exporter": "python",
   "pygments_lexer": "ipython3",
   "version": "3.9.21"
  }
 },
 "nbformat": 4,
 "nbformat_minor": 2
}
