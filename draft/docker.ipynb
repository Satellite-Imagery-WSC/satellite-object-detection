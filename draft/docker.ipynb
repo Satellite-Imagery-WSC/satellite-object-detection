{
 "cells": [
  {
   "cell_type": "code",
   "execution_count": null,
   "metadata": {},
   "outputs": [
    {
     "data": {
      "text/plain": [
       "'c:\\\\Users\\\\walte\\\\Documents\\\\Projects\\\\GitHub\\\\My_Organizations\\\\Satellite-Imagery-WSC\\\\satellite-object-detection\\\\src'"
      ]
     },
     "metadata": {},
     "output_type": "display_data"
    }
   ],
   "source": [
    "# Get the current working directory (assuming the notebook is in the 'notebooks' folder)\n",
    "current_dir = os.getcwd()\n",
    "\n",
    "# Build the path to the 'src' folder by going one level up and then into 'src'\n",
    "local_code_path = os.path.abspath(os.path.join(current_dir, '..', 'src'))\n",
    "local_code_path"
   ]
  },
  {
   "cell_type": "code",
   "execution_count": null,
   "metadata": {},
   "outputs": [],
   "source": [
    "# Compute local repository paths (assuming the notebook is in the \"notebooks\" folder)\n",
    "current_dir = os.getcwd()\n",
    "local_code_path = os.path.abspath(os.path.join(current_dir, \"..\", \"src\"))\n",
    "local_output_path = os.path.abspath(os.path.join(current_dir, \"..\", \"external\", \"model_trained\"))"
   ]
  },
  {
   "cell_type": "code",
   "execution_count": null,
   "metadata": {},
   "outputs": [],
   "source": [
    "# Training parameters\n",
    "num_train_steps = 1000\n",
    "sample_1_of_n_eval_examples = 1"
   ]
  },
  {
   "cell_type": "code",
   "execution_count": null,
   "metadata": {},
   "outputs": [],
   "source": [
    "# Define container paths\n",
    "container_code_path = \"/workspace\"\n",
    "container_output_path = \"/model_output\""
   ]
  },
  {
   "cell_type": "code",
   "execution_count": null,
   "metadata": {},
   "outputs": [],
   "source": [
    "# Build the training command using triple quotes\n",
    "command_to_run = f\"\"\"\n",
    "    python research/object_detection/model_main_tf2.py \\\n",
    "    --pipeline_config_path {os.path.join(container_code_path, \"custom_pipeline_file.config\")} \\\n",
    "    --model_dir {container_output_path} \\\n",
    "    --alsologtostderr \\\n",
    "    --num_train_steps {num_train_steps} \\\n",
    "    --sample_1_of_n_eval_examples {sample_1_of_n_eval_examples}\n",
    "\"\"\""
   ]
  },
  {
   "cell_type": "code",
   "execution_count": null,
   "metadata": {},
   "outputs": [
    {
     "name": "stdout",
     "output_type": "stream",
     "text": [
      "Local code folder: c:\\Users\\walte\\Documents\\Projects\\GitHub\\My_Organizations\\Satellite-Imagery-WSC\\satellite-object-detection\\src\n",
      "Local output folder: c:\\Users\\walte\\Documents\\Projects\\GitHub\\My_Organizations\\Satellite-Imagery-WSC\\satellite-object-detection\\external\\model_trained\n",
      "Command to run: \n",
      "    python research/object_detection/model_main_tf2.py     --pipeline_config_path /workspace\\custom_pipeline_file.config     --model_dir /model_output     --alsologtostderr     --num_train_steps 1000     --sample_1_of_n_eval_examples 1\n",
      "\n"
     ]
    }
   ],
   "source": [
    "# Print paths and command for debugging\n",
    "print(\"Local code folder:\", local_code_path)\n",
    "print(\"Local output folder:\", local_output_path)\n",
    "print(\"Command to run:\", command_to_run)"
   ]
  },
  {
   "cell_type": "code",
   "execution_count": null,
   "metadata": {},
   "outputs": [
    {
     "name": "stdout",
     "output_type": "stream",
     "text": [
      "Traceback (most recent call last):\n",
      "File \"research/object_detection/model_main_tf2.py\", line 31, in <module>\n",
      "from object_detection import model_lib_v2\n",
      "File \"/models/research/object_detection/model_lib_v2.py\", line 29, in <module>\n",
      "from object_detection import eval_util\n",
      "File \"/models/research/object_detection/eval_util.py\", line 36, in <module>\n",
      "from object_detection.metrics import lvis_evaluation\n",
      "File \"/models/research/object_detection/metrics/lvis_evaluation.py\", line 23, in <module>\n",
      "from lvis import results as lvis_results\n",
      "File \"/usr/local/lib/python3.8/site-packages/lvis/__init__.py\", line 5, in <module>\n",
      "from lvis.vis import LVISVis\n",
      "File \"/usr/local/lib/python3.8/site-packages/lvis/vis.py\", line 1, in <module>\n",
      "import cv2\n",
      "File \"/usr/local/lib/python3.8/site-packages/cv2/__init__.py\", line 181, in <module>\n",
      "bootstrap()\n",
      "File \"/usr/local/lib/python3.8/site-packages/cv2/__init__.py\", line 153, in bootstrap\n",
      "native_module = importlib.import_module(\"cv2\")\n",
      "File \"/usr/local/lib/python3.8/importlib/__init__.py\", line 127, in import_module\n",
      "return _bootstrap._gcd_import(name[level:], package, level)\n",
      "ImportError: libgthread-2.0.so.0: cannot open shared object file: No such file or directory\n"
     ]
    }
   ],
   "source": [
    "try:\n",
    "    # Run a container from your image, mounting local folders into the container\n",
    "    container = client.containers.run(\n",
    "        image=image_tag,  # Replace with your image tag\n",
    "        command=command_to_run,\n",
    "        volumes={\n",
    "            local_code_path: {\"bind\": container_code_path, \"mode\": \"rw\"},\n",
    "            local_output_path: {\"bind\": container_output_path, \"mode\": \"rw\"}\n",
    "        },\n",
    "        working_dir=container_code_path,\n",
    "        detach=True,  # Run the container in detached mode\n",
    "        remove=True   # Automatically remove the container when it exits\n",
    "    )\n",
    "\n",
    "    # Stream and print the logs in real time\n",
    "    for line in container.logs(stream=True):\n",
    "        print(line.decode(\"utf-8\").strip())\n",
    "\n",
    "except Exception as e:\n",
    "    print(\"Error:\", e)\n"
   ]
  }
 ],
 "metadata": {
  "language_info": {
   "name": "python"
  }
 },
 "nbformat": 4,
 "nbformat_minor": 2
}
