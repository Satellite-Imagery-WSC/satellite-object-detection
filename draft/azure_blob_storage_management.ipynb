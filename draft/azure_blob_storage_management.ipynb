{
 "cells": [
  {
   "cell_type": "markdown",
   "metadata": {},
   "source": [
    "# Azure Blob Storage"
   ]
  },
  {
   "cell_type": "code",
   "execution_count": null,
   "metadata": {},
   "outputs": [],
   "source": [
    "from azure.mgmt.storage import StorageManagementClient\n",
    "from azure.mgmt.storage.models import StorageAccountCreateParameters\n",
    "from azure.storage.blob import BlobServiceClient\n",
    "\n",
    "from git import Repo"
   ]
  },
  {
   "cell_type": "code",
   "execution_count": null,
   "metadata": {},
   "outputs": [],
   "source": [
    "storage_client = StorageManagementClient(credential, subscription_id)"
   ]
  },
  {
   "cell_type": "code",
   "execution_count": null,
   "metadata": {},
   "outputs": [],
   "source": [
    "from azure.mgmt.storage import StorageManagementClient\n",
    "from azure.mgmt.storage.models import StorageAccountCreateParameters, SkuName\n",
    "from azure.core.exceptions import HttpResponseError\n",
    "\n",
    "def create_or_update_storage_account(storage_client, resource_group_name, account_name, location):\n",
    "    try:\n",
    "\n",
    "        storage_account = storage_client.storage_accounts.get_properties(resource_group_name, account_name)\n",
    "        print(f\"Storage account {account_name} already exists in '{storage_account.location}'.\")\n",
    "        return storage_account\n",
    "    except HttpResponseError as e:\n",
    "        if e.status_code == 404:\n",
    "\n",
    "            print(f\"Creating storage account {account_name}...\")\n",
    "            storage_parameters = StorageAccountCreateParameters(\n",
    "                location=location,\n",
    "                sku={'name': SkuName.standard_lrs},\n",
    "                kind='StorageV2',\n",
    "                enable_https_traffic_only=True\n",
    "            )\n",
    "            storage_operation = storage_client.storage_accounts.begin_create(\n",
    "                resource_group_name,\n",
    "                account_name,\n",
    "                storage_parameters\n",
    "            )\n",
    "\n",
    "            storage_account = storage_operation.result()\n",
    "            print(f\"Storage account {account_name} created in '{location}'.\")\n",
    "            return storage_account\n",
    "        else:\n",
    "            raise\n",
    "    except Exception as e:\n",
    "        print(f\"An error occurred: {e}\")\n",
    "        return None"
   ]
  },
  {
   "cell_type": "code",
   "execution_count": null,
   "metadata": {},
   "outputs": [],
   "source": [
    "# Utiliza esta función con tu cliente y parámetros configurados\n",
    "storage_account = create_or_update_storage_account(\n",
    "    storage_client, \n",
    "    resource_group_name, \n",
    "    storage_account_name, \n",
    "    location\n",
    ")"
   ]
  },
  {
   "cell_type": "code",
   "execution_count": null,
   "metadata": {},
   "outputs": [],
   "source": [
    "def get_storage_account_keys(storage_client, resource_group_name, account_name):\n",
    "    keys_response = storage_client.storage_accounts.list_keys(resource_group_name, account_name)\n",
    "    keys = {key.key_name: key.value for key in keys_response.keys}\n",
    "    return keys"
   ]
  },
  {
   "cell_type": "code",
   "execution_count": null,
   "metadata": {},
   "outputs": [
    {
     "name": "stdout",
     "output_type": "stream",
     "text": [
      "Successfully retrieved the storage account keys.\n"
     ]
    }
   ],
   "source": [
    "if storage_account:\n",
    "    storage_keys = get_storage_account_keys(storage_client, resource_group_name, storage_account.name)\n",
    "    print(\"Successfully retrieved the storage account keys.\")\n",
    "else:\n",
    "    print(\"Failed to create or retrieve the storage account.\")"
   ]
  },
  {
   "cell_type": "code",
   "execution_count": null,
   "metadata": {},
   "outputs": [],
   "source": [
    "from azure.storage.blob import BlobServiceClient, ContainerClient\n",
    "\n",
    "def create_blob_container(storage_account_name, storage_account_key, container_name):\n",
    "    try:\n",
    "        blob_service_client = BlobServiceClient(\n",
    "            account_url=f\"https://{storage_account_name}.blob.core.windows.net/\",\n",
    "            credential=storage_account_key\n",
    "        )\n",
    "        \n",
    "        container_client = blob_service_client.get_container_client(container_name)\n",
    "        container_client.create_container()\n",
    "        print(f\"Container '{container_name}' created.\")\n",
    "    except Exception as e:\n",
    "        print(f\"Failed to create container: {e}\")\n",
    "\n"
   ]
  },
  {
   "cell_type": "code",
   "execution_count": null,
   "metadata": {},
   "outputs": [],
   "source": [
    "storage_account_key = storage_keys['key1']"
   ]
  },
  {
   "cell_type": "code",
   "execution_count": null,
   "metadata": {},
   "outputs": [],
   "source": [
    "create_blob_container(storage_account_name, storage_keys['key1'], container_name)"
   ]
  },
  {
   "cell_type": "code",
   "execution_count": null,
   "metadata": {},
   "outputs": [],
   "source": [
    "from azure.storage.blob import BlobServiceClient, BlobClient, ContainerClient\n",
    "import os\n",
    "\n",
    "def upload_files_to_blob(container_client, source_folder):\n",
    "    for root, dirs, files in os.walk(source_folder):\n",
    "        for file in files:\n",
    "            file_path = os.path.join(root, file)\n",
    "            blob_path = os.path.relpath(file_path, start=source_folder)\n",
    "            blob_client = container_client.get_blob_client(blob_path)\n",
    "            \n",
    "            with open(file_path, \"rb\") as data:\n",
    "                blob_client.upload_blob(data, overwrite=True)\n",
    "                print(f\"Uploaded {file_path} to blob {blob_path}\")"
   ]
  },
  {
   "cell_type": "code",
   "execution_count": null,
   "metadata": {},
   "outputs": [],
   "source": [
    "blob_service_client = BlobServiceClient(\n",
    "    account_url=f\"https://{storage_account_name}.blob.core.windows.net/\",\n",
    "    credential=storage_account_key\n",
    ")\n",
    "\n",
    "container_client = blob_service_client.get_container_client(container_name)"
   ]
  },
  {
   "cell_type": "code",
   "execution_count": null,
   "metadata": {},
   "outputs": [],
   "source": [
    "local_repo_path = '../external'\n",
    "\n",
    "upload_files_to_blob(container_client, local_repo_path)"
   ]
  },
  {
   "cell_type": "code",
   "execution_count": null,
   "metadata": {},
   "outputs": [],
   "source": []
  },
  {
   "cell_type": "markdown",
   "metadata": {},
   "source": [
    "## Get Storage Account Keys"
   ]
  },
  {
   "cell_type": "code",
   "execution_count": null,
   "metadata": {},
   "outputs": [],
   "source": [
    "from azure.mgmt.storage import StorageManagementClient"
   ]
  },
  {
   "cell_type": "code",
   "execution_count": null,
   "metadata": {},
   "outputs": [],
   "source": [
    "storage_client = StorageManagementClient(credential, subscription_id)"
   ]
  },
  {
   "cell_type": "code",
   "execution_count": null,
   "metadata": {},
   "outputs": [],
   "source": [
    "def get_storage_account_keys(storage_client, resource_group_name, account_name):\n",
    "    keys_response = storage_client.storage_accounts.list_keys(resource_group_name, account_name)\n",
    "    keys = {key.key_name: key.value for key in keys_response.keys}\n",
    "    return keys"
   ]
  },
  {
   "cell_type": "code",
   "execution_count": null,
   "metadata": {},
   "outputs": [
    {
     "name": "stdout",
     "output_type": "stream",
     "text": [
      "Successfully retrieved the storage account keys.\n"
     ]
    }
   ],
   "source": [
    "if storage_account_name:\n",
    "    storage_keys = get_storage_account_keys(storage_client, resource_group_name, storage_account_name)\n",
    "    print(\"Successfully retrieved the storage account keys.\")\n",
    "else:\n",
    "    print(\"Failed to create or retrieve the storage account.\")"
   ]
  }
 ],
 "metadata": {
  "language_info": {
   "name": "python"
  }
 },
 "nbformat": 4,
 "nbformat_minor": 2
}
